{
 "cells": [
  {
   "cell_type": "code",
   "execution_count": 8,
   "id": "9de7e200-8bc1-4053-9b80-fdd84fb57a08",
   "metadata": {
    "ExecutionIndicator": {
     "show": false
    },
    "execution": {
     "iopub.execute_input": "2024-11-26T14:54:11.343362Z",
     "iopub.status.busy": "2024-11-26T14:54:11.343005Z",
     "iopub.status.idle": "2024-11-26T14:54:11.402589Z",
     "shell.execute_reply": "2024-11-26T14:54:11.402063Z",
     "shell.execute_reply.started": "2024-11-26T14:54:11.343337Z"
    },
    "tags": []
   },
   "outputs": [
    {
     "name": "stdout",
     "output_type": "stream",
     "text": [
      "总分： {'f1': 0.8912284893924897, 'accuracy': 0.894, 'precision': 0.8999297428578823, 'recall': 0.894}\n",
      "对话意图得分： {'f1': 0.9454438552901191, 'accuracy': 0.9466666666666667, 'precision': 0.9528636733636734, 'recall': 0.9466666666666667}\n",
      "图片场景得分： {'f1': 0.8679933325792196, 'accuracy': 0.8714285714285714, 'precision': 0.8772437726411149, 'recall': 0.8714285714285714}\n"
     ]
    },
    {
     "name": "stderr",
     "output_type": "stream",
     "text": [
      "/usr/local/lib/python3.10/site-packages/sklearn/metrics/_classification.py:1531: UndefinedMetricWarning: Recall is ill-defined and being set to 0.0 in labels with no true samples. Use `zero_division` parameter to control this behavior.\n",
      "  _warn_prf(average, modifier, f\"{metric.capitalize()} is\", len(result))\n",
      "/usr/local/lib/python3.10/site-packages/sklearn/metrics/_classification.py:1531: UndefinedMetricWarning: Recall is ill-defined and being set to 0.0 in labels with no true samples. Use `zero_division` parameter to control this behavior.\n",
      "  _warn_prf(average, modifier, f\"{metric.capitalize()} is\", len(result))\n"
     ]
    }
   ],
   "source": [
    "import pandas as pd\n",
    "from sklearn.metrics import f1_score, accuracy_score, precision_score, recall_score\n",
    "import json\n",
    "\n",
    "\n",
    "def calculate_metrics(y_true, y_pred):\n",
    "    \"\"\"\n",
    "    计算多标签分类任务的指标: 加权F1, 总体acc, precision, recall。\n",
    "\n",
    "    参数:\n",
    "    y_true (List[List[int]]): 真实标签\n",
    "    y_pred (List[List[int]]): 预测标签\n",
    "\n",
    "    返回:\n",
    "    dict: 各指标的分数\n",
    "    \"\"\"\n",
    "\n",
    "    # 计算指标\n",
    "    metrics = {\n",
    "        \"f1\": float(f1_score(y_true, y_pred, average=\"weighted\")),\n",
    "        \"accuracy\": float(accuracy_score(y_true, y_pred)),\n",
    "        \"precision\": float(precision_score(y_true, y_pred, average=\"weighted\")),\n",
    "        \"recall\": float(recall_score(y_true, y_pred, average=\"weighted\")),\n",
    "    }\n",
    "\n",
    "    return metrics\n",
    "\n",
    "\n",
    "def get_label_pred(test_file, pred_file):\n",
    "    \"\"\"获取测试集标签以及预测结果\n",
    "\n",
    "    Args:\n",
    "        test_file (_type_): 带ground_truth标签的测试集文件\n",
    "        pred_file (_type_): 对应的预测结果文件\n",
    "    \"\"\"\n",
    "    test_data = json.load(open(test_file, \"r\"))\n",
    "    labels = [item[\"output\"] for item in test_data]\n",
    "\n",
    "    pred_data = [json.loads(line) for line in open(pred_file, \"r\")]\n",
    "    preds = [item[\"predict\"] for item in pred_data]\n",
    "\n",
    "    return labels, preds\n",
    "\n",
    "\n",
    "def cal_acc(test_file, pred_file):\n",
    "    labels, preds = get_label_pred(test_file, pred_file)\n",
    "    metrics = calculate_metrics(y_true=labels, y_pred=preds)\n",
    "    dlo_metrics = calculate_metrics(y_true=labels[:300], y_pred=preds[:300])\n",
    "    img_metrics = calculate_metrics(y_true=labels[300:], y_pred=preds[300:])\n",
    "    return metrics, dlo_metrics, img_metrics\n",
    "\n",
    "\n",
    "if __name__ == \"__main__\":\n",
    "    test_file = \"./data/mire/train2.json\"\n",
    "    pred_file = \"./saves/Qwen2-VL-7B-Instruct/lora/eval_2024-11-26-22-05-54/generated_predictions.jsonl\"\n",
    "    metrics, dlo_metrics, img_metrics = cal_acc(test_file, pred_file)\n",
    "\n",
    "    print(\"总分：\", metrics)\n",
    "    print(\"对话意图得分：\", dlo_metrics)\n",
    "    print(\"图片场景得分：\", img_metrics)\n"
   ]
  },
  {
   "cell_type": "code",
   "execution_count": 7,
   "id": "18a1550f-a2c3-44a1-a04c-592df0b55d24",
   "metadata": {
    "execution": {
     "iopub.execute_input": "2024-11-26T14:50:54.894406Z",
     "iopub.status.busy": "2024-11-26T14:50:54.894056Z",
     "iopub.status.idle": "2024-11-26T14:50:54.900049Z",
     "shell.execute_reply": "2024-11-26T14:50:54.899487Z",
     "shell.execute_reply.started": "2024-11-26T14:50:54.894381Z"
    },
    "tags": []
   },
   "outputs": [
    {
     "data": {
      "text/plain": [
       "'./data/mire/train2.json'"
      ]
     },
     "execution_count": 7,
     "metadata": {},
     "output_type": "execute_result"
    }
   ],
   "source": [
    "test_file"
   ]
  }
 ],
 "metadata": {
  "kernelspec": {
   "display_name": "Python 3 (ipykernel)",
   "language": "python",
   "name": "python3"
  },
  "language_info": {
   "codemirror_mode": {
    "name": "ipython",
    "version": 3
   },
   "file_extension": ".py",
   "mimetype": "text/x-python",
   "name": "python",
   "nbconvert_exporter": "python",
   "pygments_lexer": "ipython3",
   "version": "3.10.14"
  }
 },
 "nbformat": 4,
 "nbformat_minor": 5
}
